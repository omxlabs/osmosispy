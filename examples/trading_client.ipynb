{
 "cells": [
  {
   "attachments": {},
   "cell_type": "markdown",
   "metadata": {},
   "source": [
    "# TradingClient example\n",
    "\n",
    "## Prepare client"
   ]
  },
  {
   "cell_type": "code",
   "execution_count": null,
   "metadata": {},
   "outputs": [],
   "source": [
    "# run this if you want to run the example from the examples folder without installing the package\n",
    "import sys\n",
    "sys.path.insert(0, \"../\")"
   ]
  },
  {
   "cell_type": "code",
   "execution_count": null,
   "metadata": {},
   "outputs": [],
   "source": [
    "# import the packages\n",
    "import osmosispy\n",
    "from osmosispy import pytypes\n",
    "from osmosispy.trading_client import BinanceTradingClient, TradeData\n",
    "import time"
   ]
  },
  {
   "attachments": {},
   "cell_type": "markdown",
   "metadata": {},
   "source": [
    "don't forget to set your API key and secret to the environment variables\n",
    "`BINANCE_API_KEY` and `BINANCE_API_SECRET` respectively. Use [this article](https://www.binance.com/en/support/faq/how-to-create-api-360002502072) to get api keys\n",
    "\n",
    "```bash\n",
    "export BINANCE_API_KEY=qwerty\n",
    "export BINANCE_API_SECRET=asdfgh\n",
    "```"
   ]
  },
  {
   "cell_type": "code",
   "execution_count": null,
   "metadata": {},
   "outputs": [],
   "source": [
    "# Create a binance trading client\n",
    "binance_client = BinanceTradingClient.from_env()\n",
    "\n",
    "# # Alternatively, you can pass them to the client constructor.\n",
    "# binance_client = BinanceTradingClient(\n",
    "#     api_key=\"qwerty\",\n",
    "#     api_secret=\"asdfgh\",\n",
    "# )"
   ]
  },
  {
   "attachments": {},
   "cell_type": "markdown",
   "metadata": {},
   "source": [
    "## Get OSMO USDT trading info"
   ]
  },
  {
   "cell_type": "code",
   "execution_count": null,
   "metadata": {},
   "outputs": [],
   "source": [
    "fee = binance_client.get_trading_fee(\"OSMOUSDT\")\n",
    "# fee object will contain the following fields:\n",
    "# maker_commision: float\n",
    "# taker_commision: float\n",
    "\n",
    "print(f\"Trading fee: {fee}\")"
   ]
  },
  {
   "cell_type": "code",
   "execution_count": null,
   "metadata": {},
   "outputs": [],
   "source": [
    "price_in_usdt = binance_client.get_price(symbol = \"OSMOUSDT\")\n",
    "\n",
    "print(f\"Current price in USDT:\\n{price_in_usdt}\")"
   ]
  },
  {
   "attachments": {},
   "cell_type": "markdown",
   "metadata": {},
   "source": [
    "## Compare OSMO prices on binance and Osmosis\n",
    "Simple example of comparing OSMO prices on binance and Osmosis."
   ]
  },
  {
   "cell_type": "code",
   "execution_count": null,
   "metadata": {},
   "outputs": [],
   "source": [
    "from osmosis_proto.proto.osmosis.gamm.v1beta1 import (\n",
    "    query_pb2 as gamm_query,\n",
    "    query_pb2_grpc as gamm_query_grpc,\n",
    ")\n",
    "from osmosispy import Sdk, Network, utils"
   ]
  },
  {
   "cell_type": "code",
   "execution_count": null,
   "metadata": {},
   "outputs": [],
   "source": [
    "# prepare the osmosis client\n",
    "mnemonic_key = \"satisfy adjust timber high purchase tuition stool faith fine install that you unaware feed domain license impose boss human eager hat rent enjoy dawn\"\n",
    "\n",
    "network = Network.mainnet()\n",
    "trader = Sdk.authorize(key=mnemonic_key).with_network(network).with_config(pytypes.TxConfig())\n",
    "\n",
    "stub_gamm = gamm_query_grpc.QueryStub(trader.query.chain_channel)\n",
    "\n",
    "# check the address\n",
    "print(trader.address)"
   ]
  },
  {
   "cell_type": "code",
   "execution_count": null,
   "metadata": {},
   "outputs": [],
   "source": [
    "\n",
    "stub_gamm = gamm_query_grpc.QueryStub(trader.query.chain_channel)\n",
    "pool_raw_data = utils.deserialize(\n",
    "    stub_gamm.Pool(\n",
    "        # checking this pool https://app.osmosis.zone/pool/678\n",
    "        gamm_query.QueryPoolRequest(pool_id=678)\n",
    "    )\n",
    ")\n",
    "\n",
    "osmosis_pool = utils.deserialize_pool(pool_raw_data[\"pool\"])\n",
    "\n",
    "print(f\"osmosis pool: {osmosis_pool}\")"
   ]
  },
  {
   "cell_type": "code",
   "execution_count": null,
   "metadata": {},
   "outputs": [],
   "source": [
    "def get_osmosis_trading_price(pool):\n",
    "    price_data = utils.deserialize(\n",
    "        stub_gamm.SpotPrice(\n",
    "            gamm_query.QuerySpotPriceRequest(\n",
    "                pool_id=pool[\"id\"],\n",
    "                base_asset_denom=pool[\"pool_assets\"][0][\"token\"][\"denom\"],\n",
    "                quote_asset_denom=pool[\"pool_assets\"][1][\"token\"][\"denom\"],\n",
    "            )\n",
    "        )\n",
    "    )\n",
    "\n",
    "    return price_data[\"spot_price\"]\n",
    "\n",
    "# create trade callback\n",
    "def trade_callback(trade: TradeData):\n",
    "    print(\"===== OSMO USDT trades =====\")\n",
    "    print(f\"binance price: {trade.price.amount}\\nbinance quantity: {trade.quantity.amount}\")\n",
    "    \n",
    "    osmosis_pool_price = get_osmosis_trading_price(osmosis_pool);\n",
    "    print(f\"osmosis price: {osmosis_pool_price}\")\n",
    "\n",
    "# start listening to trades\n",
    "binance_client.listen_trades(cb=trade_callback, symbol=\"OSMOUSDT\")"
   ]
  },
  {
   "cell_type": "code",
   "execution_count": null,
   "metadata": {},
   "outputs": [],
   "source": [
    "# listen for 60 seconds\n",
    "time.sleep(60)"
   ]
  },
  {
   "cell_type": "code",
   "execution_count": null,
   "metadata": {},
   "outputs": [],
   "source": [
    "# stop listening to trades\n",
    "binance_client.stop_listeners()"
   ]
  }
 ],
 "metadata": {
  "kernelspec": {
   "display_name": ".venv",
   "language": "python",
   "name": "python3"
  },
  "language_info": {
   "codemirror_mode": {
    "name": "ipython",
    "version": 3
   },
   "file_extension": ".py",
   "mimetype": "text/x-python",
   "name": "python",
   "nbconvert_exporter": "python",
   "pygments_lexer": "ipython3",
   "version": "3.11.2"
  },
  "orig_nbformat": 4
 },
 "nbformat": 4,
 "nbformat_minor": 2
}
