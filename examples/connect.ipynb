{
 "cells": [
  {
   "cell_type": "code",
   "execution_count": 1,
   "metadata": {},
   "outputs": [],
   "source": [
    "# run this if you want to run the example from the examples folder without installing the package\n",
    "import sys\n",
    "sys.path.insert(0, \"../\")"
   ]
  },
  {
   "cell_type": "code",
   "execution_count": 2,
   "metadata": {},
   "outputs": [],
   "source": [
    "# import the package\n",
    "import osmosispy\n",
    "from osmosispy import utils, pytypes, Coin"
   ]
  },
  {
   "cell_type": "code",
   "execution_count": 3,
   "metadata": {},
   "outputs": [],
   "source": [
    "# configure\n",
    "mnemonic_key = \"notice oak worry limit wrap speak medal online prefer cluster roof addict wrist behave treat actual wasp year salad speed social layer crew genius\""
   ]
  },
  {
   "attachments": {},
   "cell_type": "markdown",
   "metadata": {},
   "source": [
    "## Prepare the account\n",
    "\n",
    "to start localnet clone the [osmosis-labs/osmosis](https://github.com/osmosis-labs/osmosis) repo and run the following command\n",
    "\n",
    "```bash\n",
    "make localnet-build\n",
    "make localnet-start\n",
    "```"
   ]
  },
  {
   "cell_type": "code",
   "execution_count": 4,
   "metadata": {},
   "outputs": [
    {
     "name": "stdout",
     "output_type": "stream",
     "text": [
      "osmo1cyyzpxplxdzkeea7kwsydadg87357qnahakaks\n"
     ]
    }
   ],
   "source": [
    "# # authorize in the localnet\n",
    "network = osmosispy.Network.localnet()\n",
    "\n",
    "# authorize in the mainnet\n",
    "# network = osmosispy.Network.mainnet()\n",
    "\n",
    "trader = osmosispy.Sdk.authorize(key=mnemonic_key).with_network(network).with_config(pytypes.TxConfig())\n",
    "\n",
    "# check the address\n",
    "print(trader.address)"
   ]
  },
  {
   "attachments": {},
   "cell_type": "markdown",
   "metadata": {},
   "source": [
    "## Check balances of the account"
   ]
  },
  {
   "cell_type": "code",
   "execution_count": 5,
   "metadata": {},
   "outputs": [],
   "source": [
    "from osmosis_proto.proto.cosmos.bank.v1beta1 import (\n",
    "  query_pb2 as bank_query,\n",
    "  query_pb2_grpc as bank_query_grpc,\n",
    ")"
   ]
  },
  {
   "cell_type": "code",
   "execution_count": 6,
   "metadata": {},
   "outputs": [
    {
     "name": "stdout",
     "output_type": "stream",
     "text": [
      "[{'denom': 'stake', 'amount': 100000000000}, {'denom': 'uion', 'amount': 100000000000}, {'denom': 'uosmo', 'amount': 100000000000}]\n"
     ]
    }
   ],
   "source": [
    "stub_bank = bank_query_grpc.QueryStub(trader.query.chain_channel)\n",
    "result = utils.deserialize(\n",
    "    stub_bank.AllBalances(\n",
    "        bank_query.QueryAllBalancesRequest(address=trader.address)\n",
    "    )\n",
    ")\n",
    "\n",
    "print(result[\"balances\"])\n"
   ]
  },
  {
   "attachments": {},
   "cell_type": "markdown",
   "metadata": {},
   "source": [
    "## Query Pools"
   ]
  },
  {
   "cell_type": "code",
   "execution_count": null,
   "metadata": {},
   "outputs": [],
   "source": [
    "from osmosis_proto.proto.osmosis.gamm.v1beta1 import (\n",
    "  query_pb2 as gamm_query,\n",
    "  query_pb2_grpc as gamm_query_grpc,\n",
    ")"
   ]
  },
  {
   "cell_type": "code",
   "execution_count": null,
   "metadata": {},
   "outputs": [],
   "source": [
    "stub_gamm = gamm_query_grpc.QueryStub(trader.query.chain_channel)\n",
    "result = utils.deserialize(\n",
    "    stub_gamm.Pools(\n",
    "        gamm_query.QueryPoolsRequest()\n",
    "    )\n",
    ")\n",
    "\n",
    "print(result[\"pools\"])"
   ]
  },
  {
   "attachments": {},
   "cell_type": "markdown",
   "metadata": {},
   "source": [
    "## Query Locks"
   ]
  },
  {
   "cell_type": "code",
   "execution_count": null,
   "metadata": {},
   "outputs": [],
   "source": [
    "from osmosis_proto.proto.osmosis.lockup import (\n",
    "    query_pb2 as lockup_query,\n",
    "    query_pb2_grpc as lockup_query_grpc,\n",
    ")"
   ]
  },
  {
   "cell_type": "code",
   "execution_count": null,
   "metadata": {},
   "outputs": [],
   "source": [
    "# Get account locks\n",
    "\n",
    "stub_lockup = lockup_query_grpc.QueryStub(trader.query.chain_channel)\n",
    "result = utils.deserialize(\n",
    "    stub_lockup.AccountLockedDuration(\n",
    "        # pass owner address string to query\n",
    "        lockup_query.AccountLockedDurationRequest(owner=trader.address)\n",
    "    )\n",
    ")\n",
    "\n",
    "print(result[\"locks\"])"
   ]
  },
  {
   "attachments": {},
   "cell_type": "markdown",
   "metadata": {},
   "source": [
    "### **ATTENTION**\n",
    "To make it work you need to specify actual `lock_id`"
   ]
  },
  {
   "cell_type": "code",
   "execution_count": null,
   "metadata": {},
   "outputs": [],
   "source": [
    "lock_id=123"
   ]
  },
  {
   "cell_type": "code",
   "execution_count": null,
   "metadata": {},
   "outputs": [],
   "source": [
    "# Lock by ID\n",
    "\n",
    "stub_lockup = lockup_query_grpc.QueryStub(trader.query.chain_channel)\n",
    "result = utils.deserialize(\n",
    "    stub_lockup.LockedByID(\n",
    "        # pass lock id to query\n",
    "        lockup_query.LockedRequest(lock_id=lock_id)\n",
    "    )\n",
    ")\n",
    "\n",
    "print(result)"
   ]
  },
  {
   "attachments": {},
   "cell_type": "markdown",
   "metadata": {},
   "source": [
    "## Query Epochs"
   ]
  },
  {
   "cell_type": "code",
   "execution_count": null,
   "metadata": {},
   "outputs": [],
   "source": [
    "from osmosis_proto.proto.osmosis.epochs import (\n",
    "    query_pb2 as epochs_query,\n",
    "    query_pb2_grpc as epochs_query_grpc,\n",
    ")"
   ]
  },
  {
   "cell_type": "code",
   "execution_count": null,
   "metadata": {},
   "outputs": [],
   "source": [
    "stub_epochs = epochs_query_grpc.QueryStub(trader.query.chain_channel)"
   ]
  },
  {
   "cell_type": "code",
   "execution_count": null,
   "metadata": {},
   "outputs": [],
   "source": [
    "# Get all epochs\n",
    "result = utils.deserialize(\n",
    "    stub_epochs.EpochInfos(\n",
    "        epochs_query.QueryEpochsInfoRequest()\n",
    "    )\n",
    ")\n",
    "\n",
    "print(result)"
   ]
  },
  {
   "cell_type": "code",
   "execution_count": null,
   "metadata": {},
   "outputs": [],
   "source": [
    "# Get current epoch\n",
    "result = utils.deserialize(\n",
    "    stub_epochs.CurrentEpoch(\n",
    "        epochs_query.QueryCurrentEpochRequest(identifier=\"day\")\n",
    "    )\n",
    ")\n",
    "\n",
    "print(result)"
   ]
  },
  {
   "attachments": {},
   "cell_type": "markdown",
   "metadata": {},
   "source": [
    "## Get pools"
   ]
  },
  {
   "cell_type": "code",
   "execution_count": null,
   "metadata": {},
   "outputs": [],
   "source": [
    "from osmosis_proto.proto.osmosis.gamm.v1beta1 import (\n",
    "    query_pb2 as gamm_query,\n",
    "    query_pb2_grpc as gamm_query_grpc,\n",
    ")"
   ]
  },
  {
   "cell_type": "code",
   "execution_count": null,
   "metadata": {},
   "outputs": [],
   "source": [
    "stub_gamm = gamm_query_grpc.QueryStub(trader.query.chain_channel)\n",
    "pools_resp = utils.deserialize(\n",
    "    stub_gamm.Pools(\n",
    "        gamm_query.QueryPoolsRequest()\n",
    "    )\n",
    ")\n",
    "\n",
    "# pools need to be deserialized manually as they are Any types\n",
    "pools = [utils.deserialize_pool(pool) for pool in pools_resp[\"pools\"]]\n",
    "\n",
    "print(\"pools\", pools)"
   ]
  },
  {
   "cell_type": "code",
   "execution_count": null,
   "metadata": {},
   "outputs": [],
   "source": [
    "# Get specific pool by ID\n",
    "stub_gamm = gamm_query_grpc.QueryStub(trader.query.chain_channel)\n",
    "pool_raw_data = utils.deserialize(\n",
    "    stub_gamm.Pool(\n",
    "        # checking this pool https://app.osmosis.zone/pool/678\n",
    "        gamm_query.QueryPoolRequest(pool_id=678)\n",
    "    )\n",
    ")\n",
    "\n",
    "pool = utils.deserialize_pool(pool_raw_data[\"pool\"])\n",
    "\n",
    "print(pool)"
   ]
  },
  {
   "cell_type": "code",
   "execution_count": null,
   "metadata": {},
   "outputs": [],
   "source": [
    "# Get spot price\n",
    "price_data = utils.deserialize(\n",
    "    stub_gamm.SpotPrice(\n",
    "        gamm_query.QuerySpotPriceRequest(\n",
    "            pool_id=pool[\"id\"],\n",
    "            base_asset_denom=pool[\"pool_assets\"][0][\"token\"][\"denom\"],\n",
    "            quote_asset_denom=pool[\"pool_assets\"][1][\"token\"][\"denom\"],\n",
    "        )\n",
    "    )\n",
    ")\n",
    "\n",
    "print(price_data[\"spot_price\"])"
   ]
  }
 ],
 "metadata": {
  "kernelspec": {
   "display_name": ".venv",
   "language": "python",
   "name": "python3"
  },
  "language_info": {
   "codemirror_mode": {
    "name": "ipython",
    "version": 3
   },
   "file_extension": ".py",
   "mimetype": "text/x-python",
   "name": "python",
   "nbconvert_exporter": "python",
   "pygments_lexer": "ipython3",
   "version": "3.11.2"
  },
  "orig_nbformat": 4
 },
 "nbformat": 4,
 "nbformat_minor": 2
}
